{
 "cells": [
  {
   "cell_type": "markdown",
   "id": "4ed1cdee",
   "metadata": {},
   "source": [
    "# Batch editing of Nion Swift Library data items\n",
    "This tool adjusts the data range settings (black point/minimum, white point/maximum, what you adjust by clicking the histogram) for all data items to the same value. Supply it with a Nion Swift .nsproj file and get a replacement for that file as output."
   ]
  },
  {
   "cell_type": "markdown",
   "id": "c2ac7c0e",
   "metadata": {},
   "source": [
    "## Adjust these parameters"
   ]
  },
  {
   "cell_type": "code",
   "execution_count": 72,
   "id": "69f04061",
   "metadata": {},
   "outputs": [],
   "source": [
    "# Input\n",
    "filepath = \"C:\\\\Users\\\\user\\\\Desktop\\\\Nion Swift Project.nsproj\"\n",
    "# by default, the original data file does not get overwritten, the output file gets '.out' appended\n",
    "output_filepath = filepath + \".out\"\n",
    "# desired data range\n",
    "minimum = 0.0\n",
    "maximum = 0.015"
   ]
  },
  {
   "cell_type": "markdown",
   "id": "ef513d3b",
   "metadata": {},
   "source": [
    "## Run these cells"
   ]
  },
  {
   "cell_type": "code",
   "execution_count": 44,
   "id": "c44331ee",
   "metadata": {},
   "outputs": [],
   "source": [
    "#Imports\n",
    "import json\n",
    "import io"
   ]
  },
  {
   "cell_type": "code",
   "execution_count": 48,
   "id": "cc462178",
   "metadata": {},
   "outputs": [],
   "source": [
    "# read file\n",
    "with open(filepath,'r') as file:\n",
    "    data=json.load(file)"
   ]
  },
  {
   "cell_type": "code",
   "execution_count": null,
   "id": "744dc915",
   "metadata": {},
   "outputs": [],
   "source": [
    "# read the display limits of one data item - helpful in determining the range if you don't want to look it up in Nion Swift.\n",
    "item_number = 2\n",
    "try: \n",
    "    print(data[('display_items')][item_number]['display_data_channels'][0]['display_limits'])\n",
    "except:\n",
    "    print(\"You chose an item that probably does not have display_limits set.\")"
   ]
  },
  {
   "cell_type": "code",
   "execution_count": 80,
   "id": "58f5f1b7",
   "metadata": {},
   "outputs": [],
   "source": [
    "# write the display limits of all data items\n",
    "for n in range(len(data[('display_items')])):\n",
    "    try:\n",
    "        data[('display_items')][n]['display_data_channels'][0]['display_limits'][0] = minimum\n",
    "        data[('display_items')][n]['display_data_channels'][0]['display_limits'][1] = maximum\n",
    "    except:\n",
    "        # for some of the items, we need to add the limits\n",
    "        data[('display_items')][n]['display_data_channels'][0]['display_limits'] = [minimum,maximum]\n",
    "        #continue"
   ]
  },
  {
   "cell_type": "code",
   "execution_count": 82,
   "id": "8f5ac7cc",
   "metadata": {},
   "outputs": [],
   "source": [
    "# write output file\n",
    "with open(output_filepath, 'w') as file:\n",
    "    json.dump(data,file)"
   ]
  },
  {
   "cell_type": "markdown",
   "id": "74bfdbd6",
   "metadata": {},
   "source": [
    "## Cells that are useful for debugging - don't run unless you need them"
   ]
  },
  {
   "cell_type": "code",
   "execution_count": null,
   "id": "fccda709",
   "metadata": {},
   "outputs": [],
   "source": [
    "# read the display limits of all data items\n",
    "for n in range(len(data[('display_items')])):\n",
    "    try:\n",
    "        print(data[('display_items')][n]['display_data_channels'][0]['display_limits'])\n",
    "    except:\n",
    "        continue\n",
    "print('length: ', len(data[('display_items')]))"
   ]
  },
  {
   "cell_type": "code",
   "execution_count": null,
   "id": "d7f4d38d",
   "metadata": {},
   "outputs": [],
   "source": [
    "# display all display_items\n",
    "data[('display_items')]"
   ]
  },
  {
   "cell_type": "code",
   "execution_count": null,
   "id": "1cc8cfb6",
   "metadata": {},
   "outputs": [],
   "source": []
  }
 ],
 "metadata": {
  "kernelspec": {
   "display_name": "Python 3",
   "language": "python",
   "name": "python3"
  },
  "language_info": {
   "codemirror_mode": {
    "name": "ipython",
    "version": 3
   },
   "file_extension": ".py",
   "mimetype": "text/x-python",
   "name": "python",
   "nbconvert_exporter": "python",
   "pygments_lexer": "ipython3",
   "version": "3.8.8"
  }
 },
 "nbformat": 4,
 "nbformat_minor": 5
}
